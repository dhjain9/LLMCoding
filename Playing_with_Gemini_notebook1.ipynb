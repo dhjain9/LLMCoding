{
  "nbformat": 4,
  "nbformat_minor": 0,
  "metadata": {
    "colab": {
      "provenance": []
    },
    "kernelspec": {
      "name": "python3",
      "display_name": "Python 3"
    },
    "language_info": {
      "name": "python"
    }
  },
  "cells": [
    {
      "cell_type": "markdown",
      "source": [
        "**Step1:** First install google-generativeai package."
      ],
      "metadata": {
        "id": "ARuHFin4pBjn"
      }
    },
    {
      "cell_type": "code",
      "execution_count": 1,
      "metadata": {
        "colab": {
          "base_uri": "https://localhost:8080/"
        },
        "id": "pF1yKIvXo0NE",
        "outputId": "f3998b43-8dd6-4be8-8086-4cbc5fb43448"
      },
      "outputs": [
        {
          "output_type": "stream",
          "name": "stdout",
          "text": [
            "\u001b[2K     \u001b[90m━━━━━━━━━━━━━━━━━━━━━━━━━━━━━━━━━━━━━━━━\u001b[0m \u001b[32m164.2/164.2 kB\u001b[0m \u001b[31m1.7 MB/s\u001b[0m eta \u001b[36m0:00:00\u001b[0m\n",
            "\u001b[2K     \u001b[90m━━━━━━━━━━━━━━━━━━━━━━━━━━━━━━━━━━━━━━━━\u001b[0m \u001b[32m718.3/718.3 kB\u001b[0m \u001b[31m13.8 MB/s\u001b[0m eta \u001b[36m0:00:00\u001b[0m\n",
            "\u001b[?25h"
          ]
        }
      ],
      "source": [
        "!pip install -q -U google-generativeai"
      ]
    },
    {
      "cell_type": "markdown",
      "source": [
        "**Step2**: Obtain an API Key to run the generative AI API. This can be done as below.\n",
        "Google AI Studio\n",
        "\n",
        "*   Go to [Google AI Studio](https://aistudio.google.com/app/apikey)\n",
        "*   On the Left pannel click \"Get API Key\"\n",
        "*   Then click on \"Create API Key\"\n",
        "*   Copy Key\n",
        "\n",
        "If you plan to run this py notebook in colab then in the colab dashboard click on the key icon on the left side and save the Key created above."
      ],
      "metadata": {
        "id": "9iiCbhYkpM8Y"
      }
    },
    {
      "cell_type": "markdown",
      "source": [
        "**Step3**: Import module and setup key"
      ],
      "metadata": {
        "id": "9S6-upJJq4tL"
      }
    },
    {
      "cell_type": "code",
      "source": [
        "import google.generativeai as genai\n",
        "from google.colab import userdata\n",
        "GOOGLE_API_KEY=userdata.get('TestKey1July2024')\n",
        "genai.configure(api_key=GOOGLE_API_KEY)"
      ],
      "metadata": {
        "id": "5VWvb8GjrL-i"
      },
      "execution_count": 2,
      "outputs": []
    },
    {
      "cell_type": "markdown",
      "source": [
        "**Step4:** Initialize the model"
      ],
      "metadata": {
        "id": "j0UEFLJ6rjQD"
      }
    },
    {
      "cell_type": "code",
      "source": [
        "model = genai.GenerativeModel('gemini-pro')"
      ],
      "metadata": {
        "id": "GD-b7k9OrqDd"
      },
      "execution_count": 3,
      "outputs": []
    },
    {
      "cell_type": "markdown",
      "source": [
        "**Step5:** Send a prompt to the model and print response."
      ],
      "metadata": {
        "id": "RnknNYsDr5pP"
      }
    },
    {
      "cell_type": "code",
      "source": [
        "response = model.generate_content(\"Write a 4 line paragraph about Cricket.\")\n",
        "print(response.text)"
      ],
      "metadata": {
        "colab": {
          "base_uri": "https://localhost:8080/",
          "height": 55
        },
        "id": "dhh6r00hr37V",
        "outputId": "c5102141-6768-49d5-f7da-602a28d8bb1b"
      },
      "execution_count": 5,
      "outputs": [
        {
          "output_type": "stream",
          "name": "stdout",
          "text": [
            "Cricket is a bat-and-ball game played between two teams of eleven players each on a field at the center of which is a 22-yard (20-meter) pitch with a wicket at each end, each comprising two bails balanced on three stumps. The game's objective is to score runs by hitting a bowled ball with the bat and running between the wickets, while the opposing team tries to prevent this by catching the ball before it hits the ground, bowling out the batsman, or running out the batsman.\n"
          ]
        }
      ]
    }
  ]
}