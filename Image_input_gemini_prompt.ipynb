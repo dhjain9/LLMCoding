{
  "nbformat": 4,
  "nbformat_minor": 0,
  "metadata": {
    "colab": {
      "provenance": []
    },
    "kernelspec": {
      "name": "python3",
      "display_name": "Python 3"
    },
    "language_info": {
      "name": "python"
    }
  },
  "cells": [
    {
      "cell_type": "markdown",
      "source": [
        "**Step1:** Import model and configure API Key"
      ],
      "metadata": {
        "id": "g5xeqlT95PeB"
      }
    },
    {
      "cell_type": "code",
      "execution_count": null,
      "metadata": {
        "id": "lFmYksDk5KER"
      },
      "outputs": [],
      "source": [
        "import pathlib\n",
        "import google.generativeai as genai\n",
        "from google.colab import userdata\n",
        "\n",
        "\n",
        "\n",
        "# setting API key var from the secrets saved in colab\n",
        "genai.configure(api_key=userdata.get('TestKey1July2024'))"
      ]
    },
    {
      "cell_type": "markdown",
      "source": [
        "**Step2:** Initialize and the input images"
      ],
      "metadata": {
        "id": "qaGcWgqY5hZp"
      }
    },
    {
      "cell_type": "code",
      "source": [
        "model = genai.GenerativeModel('gemini-1.5-flash')\n",
        "\n",
        "image1 = {\n",
        "    'mime_type': 'image/jpeg',\n",
        "    'data': pathlib.Path('guitar1.jpg').read_bytes()\n",
        "}\n",
        "\n",
        "image2 = {\n",
        "    'mime_type': 'image/jpeg',\n",
        "    'data': pathlib.Path('guitar2.jpg').read_bytes()\n",
        "}"
      ],
      "metadata": {
        "id": "NRF5u6C-5oAm"
      },
      "execution_count": 6,
      "outputs": []
    },
    {
      "cell_type": "markdown",
      "source": [
        "**Step3:** Construct and prompt and send it along with the input images. Collect the response text"
      ],
      "metadata": {
        "id": "sWnRRFPb6_jp"
      }
    },
    {
      "cell_type": "code",
      "source": [
        "prompt = \"List 5 differences between the two images\"\n",
        "\n",
        "response = model.generate_content([prompt, image1, image2])\n",
        "print(response.text)"
      ],
      "metadata": {
        "id": "2Po9u-tI7LJL",
        "colab": {
          "base_uri": "https://localhost:8080/",
          "height": 108
        },
        "outputId": "d52e746d-c2dc-4261-9e58-e4378e3ab56a"
      },
      "execution_count": 7,
      "outputs": [
        {
          "output_type": "stream",
          "name": "stdout",
          "text": [
            "1. The first guitar is a classical guitar, while the second is an acoustic guitar.\n",
            "2. The first guitar has a lighter wood color.\n",
            "3. The first guitar has a soundhole rosette.\n",
            "4. The first guitar has a different bridge.\n",
            "5. The first guitar does not have a brand name.\n"
          ]
        }
      ]
    }
  ]
}