{
  "nbformat": 4,
  "nbformat_minor": 0,
  "metadata": {
    "colab": {
      "provenance": []
    },
    "kernelspec": {
      "name": "python3",
      "display_name": "Python 3"
    },
    "language_info": {
      "name": "python"
    }
  },
  "cells": [
    {
      "cell_type": "markdown",
      "source": [
        "**Step1:** Import model and configure API Key"
      ],
      "metadata": {
        "id": "g5xeqlT95PeB"
      }
    },
    {
      "cell_type": "code",
      "source": [
        "!pip install PyPDF2\n",
        "import PyPDF2"
      ],
      "metadata": {
        "colab": {
          "base_uri": "https://localhost:8080/"
        },
        "id": "JP0Vt1OsLtVI",
        "outputId": "db2a612c-c569-4ef3-b433-fdb813fe3596"
      },
      "execution_count": null,
      "outputs": [
        {
          "output_type": "stream",
          "name": "stdout",
          "text": [
            "Requirement already satisfied: PyPDF2 in /usr/local/lib/python3.10/dist-packages (3.0.1)\n"
          ]
        }
      ]
    },
    {
      "cell_type": "code",
      "execution_count": null,
      "metadata": {
        "id": "lFmYksDk5KER"
      },
      "outputs": [],
      "source": [
        "import pathlib\n",
        "import google.generativeai as genai\n",
        "from google.colab import userdata\n",
        "\n",
        "\n",
        "\n",
        "# setting API key var from the secrets saved in colab\n",
        "genai.configure(api_key=userdata.get('TestKey1July2024'))"
      ]
    },
    {
      "cell_type": "markdown",
      "source": [
        "**Step2:** Initialize model and upload the file. Note that you have to upload the pdf into the colab folder (in the left side vertical panel click the icon for file folder and upload file)."
      ],
      "metadata": {
        "id": "qaGcWgqY5hZp"
      }
    },
    {
      "cell_type": "code",
      "source": [
        "model = genai.GenerativeModel('gemini-1.5-flash')"
      ],
      "metadata": {
        "id": "NRF5u6C-5oAm"
      },
      "execution_count": null,
      "outputs": []
    },
    {
      "cell_type": "code",
      "source": [
        "def pdf_to_text(pdf_path, output_txt):\n",
        "  \"\"\"\n",
        "  Extracts text from a PDF and writes it to a text file.\n",
        "\n",
        "  Args:\n",
        "      pdf_path: Path to the PDF file.\n",
        "      output_txt: Path to the output text file.\n",
        "  \"\"\"\n",
        "  with open(pdf_path, 'rb') as pdf_file:\n",
        "    pdf_reader = PyPDF2.PdfReader(pdf_file)\n",
        "    text = \"\"\n",
        "    for page in pdf_reader.pages:\n",
        "      text += page.extract_text()\n",
        "  with open(output_txt, 'w') as output_file:\n",
        "    output_file.write(text)\n",
        "\n",
        "# Example usage\n",
        "pdf_path = \"doc1.pdf\"\n",
        "output_txt = \"doc1_text.txt\"\n",
        "pdf_to_text(pdf_path, output_txt)"
      ],
      "metadata": {
        "id": "D4wq-fItLpwE"
      },
      "execution_count": null,
      "outputs": []
    },
    {
      "cell_type": "markdown",
      "source": [
        "**Step3:** Construct and prompt and send it along with the input images. Collect the response text"
      ],
      "metadata": {
        "id": "sWnRRFPb6_jp"
      }
    },
    {
      "cell_type": "code",
      "source": [
        "doc2 = {\n",
        "    'mime_type': 'text/plain',\n",
        "    'data': pathlib.Path('doc1_text.txt').read_bytes()\n",
        "}\n",
        "\n",
        "doc1_file = genai.upload_file(path='doc1_text.txt', display_name=\"text document doc1_text.txt\")\n",
        "print(f\"Uploaded file '{doc1_file.display_name}' as: {doc1_file.uri}\")"
      ],
      "metadata": {
        "colab": {
          "base_uri": "https://localhost:8080/",
          "height": 35
        },
        "id": "owmmDeE2Jhm8",
        "outputId": "e1be7887-5728-41f9-c922-1cda4d6552bd"
      },
      "execution_count": 37,
      "outputs": [
        {
          "output_type": "stream",
          "name": "stdout",
          "text": [
            "Uploaded file 'text document doc1_text.txt' as: https://generativelanguage.googleapis.com/v1beta/files/k38shpdet4p4\n"
          ]
        }
      ]
    },
    {
      "cell_type": "code",
      "source": [
        "prompt = \"print a summary of the doc\"\n",
        "\n",
        "response = model.generate_content([doc1_file, prompt], stream=True)\n",
        "\n",
        "for chunk in response:\n",
        "  print(chunk.text)\n",
        "  #print(\"_\"*3)"
      ],
      "metadata": {
        "colab": {
          "base_uri": "https://localhost:8080/",
          "height": 638
        },
        "id": "ZZikFbP-Mu4g",
        "outputId": "78b285e3-9fa1-4f58-8014-3e81f77f9527"
      },
      "execution_count": 38,
      "outputs": [
        {
          "output_type": "stream",
          "name": "stdout",
          "text": [
            "##\n",
            " Cataract Summary\n",
            "\n",
            "Cataracts are a clouding of the eye's\n",
            " lens, a natural part of aging. This clouding happens when proteins in the\n",
            " lens break down and clump together, obstructing light from reaching the retina. \n",
            "\n",
            "**Symptoms:**\n",
            "\n",
            "* Blurred vision\n",
            "* Hazy or less colorful vision\n",
            "\n",
            "* Difficulty reading or performing daily tasks\n",
            "* Sensitivity to light and glare\n",
            "* Seeing double\n",
            "* Halos around lights, especially at night\n",
            "* Objects\n",
            " appearing brown or yellow\n",
            "\n",
            "**Risk Factors:**\n",
            "\n",
            "* Family history\n",
            "* Diabetes\n",
            "* Smoking\n",
            "* Long-term corticosteroid use\n",
            "* Unprotected UV exposure\n",
            "* High alcohol consumption\n",
            "* Low levels of antioxidants (vitamin C,\n",
            " E, and carotenoids)\n",
            "\n",
            "**Treatment:**\n",
            "\n",
            "While cataracts themselves aren't harmful, surgery can be used to remove them and replace the cloudy lens with an artificial lens (IOL). This restores vision. \n",
            "\n"
          ]
        }
      ]
    },
    {
      "cell_type": "code",
      "source": [
        "response = model.generate_content([doc1_file,\"list the treatment options\"], stream=True)\n",
        "\n",
        "for chunk in response:\n",
        "  print(chunk.text)\n",
        "  #print(\"_\"*3)"
      ],
      "metadata": {
        "colab": {
          "base_uri": "https://localhost:8080/",
          "height": 327
        },
        "id": "plsAuIKuPy2N",
        "outputId": "aa1b9b2b-8dcf-42cf-bc09-07d6b680d863"
      },
      "execution_count": 39,
      "outputs": [
        {
          "output_type": "stream",
          "name": "stdout",
          "text": [
            "The\n",
            " text you provided focuses on explaining what cataracts are and their symptoms, but it\n",
            " only mentions one treatment option:\n",
            "\n",
            "* **Surgery:** This is the primary treatment\n",
            " for cataracts. The cloudy lens is removed and replaced with an artificial lens called an intraocular lens (IOL). \n",
            "\n",
            "While the text doesn't explicitly\n",
            " mention other treatment options, it's important to note that:\n",
            "\n",
            "* **There are currently no non-surgical treatments** for cataracts that can reverse the\n",
            " clouding of the lens. \n",
            "* **Lifestyle changes** like wearing sunglasses to protect from UV radiation and maintaining a healthy diet may help to slow the progression of cataracts, but they cannot cure them.\n",
            "\n",
            "If you are concerned about\n",
            " cataracts, it's important to consult with an ophthalmologist to discuss your specific situation and available treatment options. \n",
            "\n"
          ]
        }
      ]
    },
    {
      "cell_type": "code",
      "source": [
        "genai.delete_file(doc1_file.name)\n",
        "print(f'Deleted file {doc1_file.uri}')"
      ],
      "metadata": {
        "colab": {
          "base_uri": "https://localhost:8080/",
          "height": 35
        },
        "id": "kiF56exyHEVe",
        "outputId": "5989b928-719a-47b9-cf58-11e61426a8a5"
      },
      "execution_count": 40,
      "outputs": [
        {
          "output_type": "stream",
          "name": "stdout",
          "text": [
            "Deleted file https://generativelanguage.googleapis.com/v1beta/files/k38shpdet4p4\n"
          ]
        }
      ]
    }
  ]
}